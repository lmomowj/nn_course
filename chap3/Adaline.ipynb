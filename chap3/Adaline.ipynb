{
 "cells": [
  {
   "cell_type": "markdown",
   "id": "8af033f4",
   "metadata": {},
   "source": [
    "# 自适应线性单元  &nbsp;&nbsp; ADALINE (Adaptive Linear Neuron)"
   ]
  },
  {
   "cell_type": "markdown",
   "id": "d3d650eb",
   "metadata": {},
   "source": [
    " $\\cdot$ &nbsp;&nbsp; 1962年美国斯坦福大学教授Widrow提出一种自适应可调的神经网络，其基本构成单元称为自适应线性单元，英文缩写为ADALINE\n",
    "(Adaptive Linear Neuron)  \n",
    " $\\cdot$ &nbsp;&nbsp; 这种自适应可调的神经网络主要适用于信号处理中的自适应滤波、预测和模式识别."
   ]
  },
  {
   "cell_type": "markdown",
   "id": "ebb5eff1",
   "metadata": {},
   "source": [
    "##  $\\cdot$  &nbsp;&nbsp;  ADALINE 模型"
   ]
  },
  {
   "cell_type": "markdown",
   "id": "c20965ff",
   "metadata": {},
   "source": [
    " &nbsp;&nbsp;  &nbsp;&nbsp; 在结构上与感知器单元相似   "
   ]
  },
  {
   "cell_type": "markdown",
   "id": "964904e0",
   "metadata": {},
   "source": [
    "&nbsp;&nbsp; &nbsp;&nbsp; &nbsp; $\\cdot$ &nbsp;&nbsp; 输入向量 ${\\boldsymbol{x} = (x_0,x_1,\\cdots,x_n)^T}$ 的每个输入分量可以是数字量，也可以是模拟量  \n",
    "  \n",
    "&nbsp;&nbsp; &nbsp;&nbsp; &nbsp; $\\cdot$ &nbsp;&nbsp; 权值向量 $\\boldsymbol{w} = (w_{0},w_{1},\\cdots,\\cdots,w_{n})^T$"
   ]
  },
  {
   "cell_type": "markdown",
   "id": "95887494",
   "metadata": {},
   "source": [
    "<img src=\".\\image\\adaline.png\" alt=\"ADALINE\" width=\"55%\">"
   ]
  },
  {
   "cell_type": "markdown",
   "id": "a93f1f1e",
   "metadata": {},
   "source": [
    "### &nbsp;&nbsp;  &nbsp;&nbsp; ADALINE 有两种输出：   "
   ]
  },
  {
   "cell_type": "markdown",
   "id": "a2e599bd",
   "metadata": {},
   "source": [
    "&nbsp;&nbsp; &nbsp;&nbsp; &nbsp;&nbsp; $\\cdot$ &nbsp;&nbsp;  当激活函数为线性函数时，输出为模拟量  &nbsp;&nbsp;  &nbsp;&nbsp;   &nbsp;&nbsp;   &nbsp;&nbsp;   &nbsp;&nbsp;  $y = f(\\boldsymbol{w}^T\\boldsymbol{x}) = \\boldsymbol{w}^T\\boldsymbol{x}$ "
   ]
  },
  {
   "cell_type": "markdown",
   "id": "274883c1",
   "metadata": {},
   "source": [
    "&nbsp;&nbsp; &nbsp;&nbsp; &nbsp;&nbsp; $\\cdot$ &nbsp;&nbsp; 当激活函数为符号函数时，输出为双极性数字量  &nbsp;&nbsp; $o = \\mathrm{sgn}(y) =\n",
    "\\begin{cases}\n",
    "1 & y> 0 \\\\\n",
    "-1 & y<0\n",
    "\\end{cases}$  "
   ]
  },
  {
   "cell_type": "markdown",
   "id": "7b2e3b11",
   "metadata": {},
   "source": [
    "##  $\\cdot$  &nbsp;&nbsp; 学习规则"
   ]
  },
  {
   "cell_type": "markdown",
   "id": "e4f5a729",
   "metadata": {},
   "source": [
    "&nbsp;&nbsp; &nbsp;&nbsp; Widrow-Hoff 学习规则&nbsp; /&nbsp; 最小均方学习规则（Least-Mean-Square，LMS） "
   ]
  },
  {
   "cell_type": "markdown",
   "id": "93767023",
   "metadata": {},
   "source": [
    " $$\\boldsymbol{w}\\leftarrow \\boldsymbol{w} + \\eta\\cdot (d - \\boldsymbol{w}^T\\boldsymbol{x})\\frac{\\boldsymbol{x}}{\\|\\boldsymbol{x}\\|^2} \\ \\ \\ \\ \\ \\ \\ \\ \\ \\ \\ \\ \\  \\varepsilon = d-y = d-\\boldsymbol{w}^T\\boldsymbol{x} $$"
   ]
  },
  {
   "cell_type": "markdown",
   "id": "b30e5f4d",
   "metadata": {},
   "source": [
    " &nbsp;&nbsp;  &nbsp;&nbsp; $\\cdot$  &nbsp;&nbsp; $\\varepsilon$的绝对值是单调下降的，$y$总是在不断地接近$d$.  \n",
    " &nbsp;&nbsp;  &nbsp;&nbsp;  $\\cdot$  &nbsp;&nbsp; LMS算法能保证ADALINE在自适应学习时的收敛性.  \n",
    " &nbsp;&nbsp;  &nbsp;&nbsp;  $\\cdot$  &nbsp;&nbsp; 该方法的特点就是不需要求导，速度快.  "
   ]
  },
  {
   "cell_type": "markdown",
   "id": "8ca3a231",
   "metadata": {},
   "source": [
    "&nbsp;&nbsp;  &nbsp;&nbsp;<font color=\"red\" size=3> **注：** </font>   &nbsp;&nbsp; <font size=3>权重更新是基于训练集中的所有样本计算，而不是在每个样本之后逐步更新权重，这种方法被称为<font color=\"blue\">**批量梯度下降**</font>. </font>"
   ]
  },
  {
   "cell_type": "markdown",
   "id": "cd562046",
   "metadata": {},
   "source": [
    "&nbsp;&nbsp; &nbsp;&nbsp; 对于$N$个输入样本$\\{\\boldsymbol{x}^{(n)},d^{(n)}\\}_{n=1}^{N}$"
   ]
  },
  {
   "cell_type": "markdown",
   "id": "f34755e7",
   "metadata": {},
   "source": [
    " $$\\boldsymbol{w}\\leftarrow \\boldsymbol{w} + \\eta\\cdot \\sum_{n=1}^{N}(d^{(n)} - \\boldsymbol{w}^T\\boldsymbol{x}^{(n)})\\boldsymbol{x}^{(n)}$$"
   ]
  },
  {
   "cell_type": "code",
   "execution_count": 1,
   "id": "4bb6106e",
   "metadata": {},
   "outputs": [],
   "source": [
    "import random\n",
    "import numpy as np\n",
    "np.set_printoptions(precision=3)\n",
    "from nnc.plot_tool import *"
   ]
  },
  {
   "cell_type": "code",
   "execution_count": 2,
   "id": "ddf3549a",
   "metadata": {},
   "outputs": [],
   "source": [
    "# 利用 slearn.metrics 定义评价指标 \n",
    "from sklearn import metrics\n",
    "# 回归问题评价指标\n",
    "def mse(preds,target):  \n",
    "    # 均方误差MSE，即mean squared error\n",
    "    assert target.shape[0] == preds.shape[0] \n",
    "    return metrics.mean_squared_error(target,preds)  \n",
    "\n",
    "# 分类问题评价指标\n",
    "# 准确率 Accuracy\n",
    "def accuracy(preds,labels):\n",
    "    return metrics.accuracy_score(labels,preds,normalize=False)\n",
    "\n",
    "#def MSE(y_pred,y):\n",
    "    # 均方误差\n",
    "    #return np.mean((y_pred-y)**2)\n",
    "\n",
    "# 二次损失函数  （ADALINE使用的损失函数）\n",
    "def quadratic(y,y_pred):\n",
    "    return np.sum((y-y_pred)**2)/2"
   ]
  },
  {
   "cell_type": "code",
   "execution_count": 3,
   "id": "deffe761",
   "metadata": {},
   "outputs": [],
   "source": [
    "# 样本的归一化处理\n",
    "def normalization(X,scale='norm'):\n",
    "    # X.shape = [N,M]  N-样本数目 M-特征维度\n",
    "    if X.ndim == 1:\n",
    "        X = X.reshape(1,-1)\n",
    "    if scale == 'min_max':\n",
    "        X_ = (X.T - np.min(X,axis=1))/(np.max(X,axis=1)-np.min(X,axis=1))\n",
    "    elif scale == 'z_score':\n",
    "        X_ = (X.T - np.mean(X,axis=1))/np.std(X,axis=1)\n",
    "    elif scale == 'norm':\n",
    "        X_ = X.T/np.linalg.norm(X,axis=1)\n",
    "    elif scale == 'sigmoid':   # Logistic\n",
    "        X_ = 1.0 / (1 + np.exp(-X.T))\n",
    "    return X_.T"
   ]
  },
  {
   "cell_type": "code",
   "execution_count": 4,
   "id": "097e9d81",
   "metadata": {},
   "outputs": [],
   "source": [
    "# ADALINE 模型\n",
    "class ADALINE():\n",
    "    \n",
    "    def __init__(self,input_size,output_size,init_W=None,init_T=None):\n",
    "        '''   \n",
    "        定义 M 输入 L输出-ADALINE\n",
    "        输入：\n",
    "            - input_size：输入维度 M\n",
    "            - output_size：输出维度 L\n",
    "        '''  \n",
    "        # 激活函数 感知器 默认为sign函数\n",
    "        self.input_size = input_size    # 输入数据维度 M\n",
    "        self.output_size = output_size  # 输出层节点数目 L\n",
    "        \n",
    "        # 初始化模型参数\n",
    "        if init_W is None:\n",
    "            self.weight = np.random.normal(0.0,1.0,(self.output_size,self.input_size))\n",
    "        else:\n",
    "            if not isinstance(init_W,np.ndarray):\n",
    "                self.weight = np.array(init_W,dtype=np.float64)\n",
    "            else:\n",
    "                self.weight = init_W\n",
    "            if self.weight.ndim <= 1:\n",
    "                self.weight = self.weight.reshape(1,-1)                \n",
    "        if init_T is None:\n",
    "            self.bias = random_gen.normal(0.0,1.0,(1,self.output_size))\n",
    "        else:\n",
    "            if not isinstance(init_T,np.ndarray):\n",
    "                self.bias = np.array(-init_T,dtype=np.float64)\n",
    "            else:\n",
    "                self.bias = -init_T            \n",
    "            if self.bias.ndim <= 1:\n",
    "                self.bias = self.bias.reshape(-1,1)  \n",
    "       \n",
    "    def __call__(self, X):\n",
    "        # 可以直接调用模型的forward()方法进行前向执行, \n",
    "        # 也可以调用__call__(), 从而执行在forward()中定义的前向计算逻辑\n",
    "        return self.forward(X)\n",
    "    \n",
    "    def forward(self,X):    \n",
    "        # ADALINE 的前向运算\n",
    "        if X.ndim <= 1: \n",
    "            X = X.reshape(1,-1)   # 转成2-维行向量   X.reshape(-1,1) # 转成2-维列向量\n",
    "        # X.shape  [N,M]   N - 样本数目， M - 特征维数\n",
    "        net = np.dot(X,self.weight.T) + self.bias    # 净输入\n",
    "        return net\n",
    "        \n",
    "    def update(self,X,y,d,lr,scale=None):\n",
    "        # X: 输入样本\n",
    "        # y: 实际输出\n",
    "        # d: 期望输出\n",
    "        # lr: 学习率\n",
    "        # 参数更新\n",
    "        error = (d - y)   # ADALINE的学习信号\n",
    "        # 权值更新/偏置更新\n",
    "        if scale is None:   \n",
    "            # 样本未进行归一化处理\n",
    "            # 课本中Adaline的权值更新规则\n",
    "            X_ = np.insert(X,0,X.shape[0]*[-1],axis=1)\n",
    "            X_ = X_.T/(np.linalg.norm(X_,axis=1)**2)\n",
    "            dw = lr*error.T.dot(X_.T)\n",
    "            self.weight += dw[:,1:]\n",
    "            self.bias += -dw[:,0]\n",
    "        else:\n",
    "            # 样本进行归一化处理后的 权值更新\n",
    "            self.weight += lr*error.T.dot(X)\n",
    "            self.bias += lr * error.sum()"
   ]
  },
  {
   "cell_type": "code",
   "execution_count": 5,
   "id": "b42a3833",
   "metadata": {},
   "outputs": [],
   "source": [
    "class Runner(object):\n",
    "    \n",
    "    def __init__(self,model,metric):\n",
    "        # ADALINE 模型\n",
    "        self.model = model\n",
    "        # 评价函数 （e.g. 回归 mse, 分类 acurracy）\n",
    "        self.metric = metric\n",
    "        # 记录训练误差\n",
    "        self.train_loss = []   \n",
    "        # 记录训练样本评价指标分数\n",
    "        self.train_score = []\n",
    "    \n",
    "    # 模型训练\n",
    "    def train(self,train_dataset,lr=0.01,epochs=100,**kwargs):  \n",
    "        # train_dataset 训练数据(X,y)\n",
    "        # lr 学习率\n",
    "        # epochs 训练轮数 \n",
    "        # eps    算法停止条件 (loss < eps)\n",
    "        eps = kwargs.get('eps',1e-5)        \n",
    "        # 样本归一化方法\n",
    "        scale = kwargs.get('scale',None)\n",
    "        # ADALINE输出信号的类型  离散(类别)信号 digital or 模拟信号 analog（默认）\n",
    "        out_type = kwargs.get('out_type','analog')  #\n",
    "        # 打印过程 默认: 循环1轮打印一次\n",
    "        log_epochs = kwargs.get(\"log_epochs\", 1)  \n",
    "        \n",
    "        X,y = train_dataset\n",
    "        if X.ndim == 1:\n",
    "            X = X.reshape(1,-1)\n",
    "        if y.ndim == 1:\n",
    "            y = y.reshape(-1,1)\n",
    "        N,M = X.shape    # N - 样本数目  M - 输入维度    \n",
    "        \n",
    "        # 样本做 归一化处理\n",
    "        if scale is not None:\n",
    "            X = normalization(X,scale=scale)\n",
    "        \n",
    "        print('\\n初始权值 W(0) = : {}'.format(self.model.weight))\n",
    "        print('初始阈值T(0) = {}'.format(-self.model.bias))\n",
    "        \n",
    "        # 进行num_epochs轮训练        \n",
    "        for epoch in range(epochs+1): \n",
    "            \n",
    "            # 计算ADALINE输出 o = y_pred\n",
    "            y_pred = self.model(X)\n",
    "            \n",
    "            # 计算训练误差\n",
    "            loss = quadratic(y_pred,y)\n",
    "            self.train_loss.append(loss)\n",
    "            \n",
    "            # 计算评价指标分数\n",
    "            score = self.evaluate((X,y),out_type)\n",
    "            self.train_score.append(score)\n",
    "            \n",
    "            # 打印 损失和评价分数\n",
    "            if (epoch+1) % log_epochs == 0:\n",
    "                print(f\"\\n+ 第{epoch+1}步: \") \n",
    "                print('- 训练误差(loss/score): %.4f'%loss)\n",
    "                if out_type in ['class','digital']:\n",
    "                    print(f\"[训练] epoch: {epoch+1}/{epochs}, loss: {round(loss,6)}, score:{score}/{N}\")\n",
    "                else:\n",
    "                    print(f\"[训练] epoch: {epoch+1}/{epochs}, loss: {round(loss,6)}, score:{round(score,6)}\")\n",
    "                \n",
    "            # 判断算法是否停止(评价模型)\n",
    "            if loss < eps or epoch == epochs:                \n",
    "                output = self.predict(X,out_type)\n",
    "                print('\\n 训练结束: ')                \n",
    "                print(f' - 期望输出: {y.squeeze()}')\n",
    "                print(f' - 实际输出: {output}')\n",
    "                if loss < eps:\n",
    "                    print(f' - 算法迭代次数: {epoch+1}')\n",
    "                else:\n",
    "                    print(f' - 算法迭代次数: {epoch}')\n",
    "                return output\n",
    "            \n",
    "            # 更新参数(权值和偏置)\n",
    "            model.update(X,y_pred,y,lr,scale)\n",
    "            if (epoch+1) % log_epochs == 0:\n",
    "                print(' - 更新后的权值 W({}): {}'.format(epoch+1,self.model.weight))\n",
    "                print(' - 更新后的阈值T({}): {}'.format(epoch+1,-self.model.bias))\n",
    "    \n",
    "    # 模型评价\n",
    "    def evaluate(self,dataset,out_type):        \n",
    "        X, y = dataset\n",
    "        # 计算模型输出\n",
    "        y_pred = self.model(X)\n",
    "        if out_type in ['digital','class']:\n",
    "            y_pred = np.sign(y_pred)\n",
    "        # 计算评价指标\n",
    "        score = self.metric(y_pred, y)\n",
    "        return score\n",
    "        \n",
    "    # 模型预测    \n",
    "    def predict(self,X, out_type):\n",
    "        if out_type in ['digital','class']:\n",
    "            return np.sign(self.model(X)).squeeze()\n",
    "        else:\n",
    "            return self.model(X).squeeze()\n",
    "        "
   ]
  },
  {
   "cell_type": "markdown",
   "id": "918976d8",
   "metadata": {},
   "source": [
    "$\\cdot$ &nbsp;&nbsp;&nbsp;P50 例3-4：ADALINE 的 LMS算法的学习步骤.  \n",
    "&nbsp;&nbsp; &nbsp;&nbsp;&nbsp;&nbsp; &nbsp;&nbsp;&nbsp;&nbsp; 输入向量$\\boldsymbol{X}=(1.2,2.7)$, $d=2.3$, 初始权值$\\boldsymbol{W}(0)=[0.5,1.1]$，初始阈值$T=-1$, 学习率$\\eta=0.6$, ."
   ]
  },
  {
   "cell_type": "code",
   "execution_count": 6,
   "id": "d6269e64",
   "metadata": {
    "scrolled": false
   },
   "outputs": [
    {
     "name": "stdout",
     "output_type": "stream",
     "text": [
      "\n",
      " ADALINE LMS算法的学习步骤\n",
      "================================================================================\n",
      "\n",
      "初始权值 W(0) = : [[0.5 1.1]]\n",
      "初始阈值T(0) = [[-1.]]\n",
      "\n",
      "+ 第1步: \n",
      "- 训练误差(loss/score): 2.5765\n",
      "[训练] epoch: 1/50, loss: 2.57645, score:5.1529\n",
      " - 更新后的权值 W(1): [[0.332 0.722]]\n",
      " - 更新后的阈值T(1): [[-0.86]]\n",
      "\n",
      "+ 第2步: \n",
      "- 训练误差(loss/score): 0.4122\n",
      "[训练] epoch: 2/50, loss: 0.412232, score:0.824464\n",
      " - 更新后的权值 W(2): [[0.265 0.571]]\n",
      " - 更新后的阈值T(2): [[-0.804]]\n",
      "\n",
      "+ 第3步: \n",
      "- 训练误差(loss/score): 0.0660\n",
      "[训练] epoch: 3/50, loss: 0.065957, score:0.131914\n",
      " - 更新后的权值 W(3): [[0.238 0.51 ]]\n",
      " - 更新后的阈值T(3): [[-0.782]]\n",
      "\n",
      "+ 第4步: \n",
      "- 训练误差(loss/score): 0.0106\n",
      "[训练] epoch: 4/50, loss: 0.010553, score:0.021106\n",
      " - 更新后的权值 W(4): [[0.227 0.486]]\n",
      " - 更新后的阈值T(4): [[-0.773]]\n",
      "\n",
      "+ 第5步: \n",
      "- 训练误差(loss/score): 0.0017\n",
      "[训练] epoch: 5/50, loss: 0.001689, score:0.003377\n",
      " - 更新后的权值 W(5): [[0.223 0.477]]\n",
      " - 更新后的阈值T(5): [[-0.769]]\n",
      "\n",
      "+ 第6步: \n",
      "- 训练误差(loss/score): 0.0003\n",
      "[训练] epoch: 6/50, loss: 0.00027, score:0.00054\n",
      " - 更新后的权值 W(6): [[0.221 0.473]]\n",
      " - 更新后的阈值T(6): [[-0.768]]\n",
      "\n",
      "+ 第7步: \n",
      "- 训练误差(loss/score): 0.0000\n",
      "[训练] epoch: 7/50, loss: 4.3e-05, score:8.6e-05\n",
      " - 更新后的权值 W(7): [[0.22  0.471]]\n",
      " - 更新后的阈值T(7): [[-0.767]]\n",
      "\n",
      "+ 第8步: \n",
      "- 训练误差(loss/score): 0.0000\n",
      "[训练] epoch: 8/50, loss: 7e-06, score:1.4e-05\n",
      " - 更新后的权值 W(8): [[0.22  0.471]]\n",
      " - 更新后的阈值T(8): [[-0.767]]\n",
      "\n",
      "+ 第9步: \n",
      "- 训练误差(loss/score): 0.0000\n",
      "[训练] epoch: 9/50, loss: 1e-06, score:2e-06\n",
      " - 更新后的权值 W(9): [[0.22 0.47]]\n",
      " - 更新后的阈值T(9): [[-0.767]]\n",
      "\n",
      "+ 第10步: \n",
      "- 训练误差(loss/score): 0.0000\n",
      "[训练] epoch: 10/50, loss: 0.0, score:0.0\n",
      " - 更新后的权值 W(10): [[0.22 0.47]]\n",
      " - 更新后的阈值T(10): [[-0.767]]\n",
      "\n",
      "+ 第11步: \n",
      "- 训练误差(loss/score): 0.0000\n",
      "[训练] epoch: 11/50, loss: 0.0, score:0.0\n",
      " - 更新后的权值 W(11): [[0.22 0.47]]\n",
      " - 更新后的阈值T(11): [[-0.767]]\n",
      "\n",
      "+ 第12步: \n",
      "- 训练误差(loss/score): 0.0000\n",
      "[训练] epoch: 12/50, loss: 0.0, score:0.0\n",
      " - 更新后的权值 W(12): [[0.22 0.47]]\n",
      " - 更新后的阈值T(12): [[-0.767]]\n",
      "\n",
      "+ 第13步: \n",
      "- 训练误差(loss/score): 0.0000\n",
      "[训练] epoch: 13/50, loss: 0.0, score:0.0\n",
      " - 更新后的权值 W(13): [[0.22 0.47]]\n",
      " - 更新后的阈值T(13): [[-0.767]]\n",
      "\n",
      "+ 第14步: \n",
      "- 训练误差(loss/score): 0.0000\n",
      "[训练] epoch: 14/50, loss: 0.0, score:0.0\n",
      " - 更新后的权值 W(14): [[0.22 0.47]]\n",
      " - 更新后的阈值T(14): [[-0.767]]\n",
      "\n",
      "+ 第15步: \n",
      "- 训练误差(loss/score): 0.0000\n",
      "[训练] epoch: 15/50, loss: 0.0, score:0.0\n",
      "\n",
      " 训练结束: \n",
      " - 期望输出: 2.3\n",
      " - 实际输出: 2.300006093484851\n",
      " - 算法迭代次数: 15\n",
      " - ADALINE权值W: [[0.22 0.47]] 阈值T: [[-0.767]]\n",
      "\n",
      " + 绘制训练损失/评价分数曲线\n"
     ]
    },
    {
     "data": {
      "image/png": "[encoded data removed]",
      "text/plain": [
       "<Figure size 600x400 with 1 Axes>"
      ]
     },
     "metadata": {},
     "output_type": "display_data"
    },
    {
     "data": {
      "image/png": "[encoded data removed]",
      "text/plain": [
       "<Figure size 600x400 with 1 Axes>"
      ]
     },
     "metadata": {},
     "output_type": "display_data"
    },
    {
     "name": "stdout",
     "output_type": "stream",
     "text": [
      "\n",
      " ================================================================================\n",
      "\n"
     ]
    }
   ],
   "source": [
    "# P50 例3-4\n",
    "# 输入样本与期望输出\n",
    "X = np.array([[1.2,2.7]])    \n",
    "y = np.array([2.3])\n",
    "train_data = (X,y)\n",
    "   \n",
    "# 训练与操作      \n",
    "print('\\n ADALINE LMS算法的学习步骤')\n",
    "print(\"================================================================================\")\n",
    "\n",
    "# (1) 模型构建 --- ADALINE模型     \n",
    "input_size = X.shape[1]\n",
    "output_size = 1\n",
    "init_W = [0.5,1.1]\n",
    "init_T = -1\n",
    "# 实例化模型\n",
    "model = ADALINE(input_size,output_size,init_W=init_W,init_T=init_T)   \n",
    "\n",
    "# (2) 模型训练\n",
    "# 设置评价函数 \n",
    "metric = mse  #   MSE函数\n",
    "# 实例化Runner类, 并传入训练配置    \n",
    "runner = Runner(model,metric)\n",
    "# 设置模型训练参数 \n",
    "lr = 0.6      # 学习率\n",
    "epochs = 50     # 循环次数 \n",
    "eps = 1e-10      # 算法停止条件\n",
    "scale = None   # 'norm'  #    'min_max'  #  'z_score'  # 样本归一化方法\n",
    "out_type = 'analog'  # 输出类型 离散(类别)信号 'digital/class'  or 模拟信号 'analog'\n",
    "log_epochs = 1  # 打印轮次\n",
    "\n",
    "# 开始训练\n",
    "runner.train(train_data,lr=lr,epochs=epochs,eps=eps,out_type=out_type,scale = scale,log_epochs=log_epochs)\n",
    "print(\" - ADALINE权值W:\", model.weight, \"阈值T:\", -model.bias)\n",
    "\n",
    "print(\"\\n + 绘制训练损失/评价分数曲线\")\n",
    "# 绘制训练损失曲线\n",
    "draw_score(runner.train_loss)\n",
    "draw_score(runner.train_score,metric='mse')\n",
    "\n",
    "print(\"\\n ================================================================================\\n\")"
   ]
  },
  {
   "cell_type": "markdown",
   "id": "a09fda94",
   "metadata": {},
   "source": [
    "##  $\\cdot$ &nbsp;&nbsp; 单计算节点ADALINE实现二分类问题"
   ]
  },
  {
   "cell_type": "markdown",
   "id": "f84f69dd",
   "metadata": {},
   "source": [
    "$\\cdot$ &nbsp;&nbsp;&nbsp;例：将逻辑“与”运算看成一个二分类问题.&nbsp;&nbsp;用感知器学习规则 训练一个分类器,实现“与”运算.  \n",
    "&nbsp;&nbsp; &nbsp;&nbsp;&nbsp;&nbsp; &nbsp;&nbsp;&nbsp;&nbsp;  学习率$\\eta=0.05$, 初始权值$\\boldsymbol{W}=[0.27,0.07]$，初始阈值$T=0.22$."
   ]
  },
  {
   "cell_type": "code",
   "execution_count": 7,
   "id": "5142661a",
   "metadata": {
    "scrolled": false
   },
   "outputs": [
    {
     "name": "stdout",
     "output_type": "stream",
     "text": [
      "\n",
      "训练 ADALINE 实现“与”运算\n",
      "================================================================================\n",
      "\n",
      "初始权值 W(0) = : [[0.27 0.07]]\n",
      "初始阈值T(0) = [[0.22]]\n",
      "\n",
      "+ 第5步: \n",
      "- 训练误差(loss/score): 1.2094\n",
      "[训练] epoch: 5/50, loss: 1.209371, score:3/4\n",
      " - 更新后的权值 W(5): [[0.257 0.103]]\n",
      " - 更新后的阈值T(5): [[0.666]]\n",
      "\n",
      "+ 第10步: \n",
      "- 训练误差(loss/score): 1.0596\n",
      "[训练] epoch: 10/50, loss: 1.059551, score:3/4\n",
      " - 更新后的权值 W(10): [[0.337 0.217]]\n",
      " - 更新后的阈值T(10): [[0.821]]\n",
      "\n",
      "+ 第15步: \n",
      "- 训练误差(loss/score): 0.9274\n",
      "[训练] epoch: 15/50, loss: 0.927371, score:3/4\n",
      " - 更新后的权值 W(15): [[0.415 0.322]]\n",
      " - 更新后的阈值T(15): [[0.913]]\n",
      "\n",
      "+ 第20步: \n",
      "- 训练误差(loss/score): 0.8291\n",
      "[训练] epoch: 20/50, loss: 0.829122, score:3/4\n",
      " - 更新后的权值 W(20): [[0.48  0.408]]\n",
      " - 更新后的阈值T(20): [[0.981]]\n",
      "\n",
      "+ 第25步: \n",
      "- 训练误差(loss/score): 0.7590\n",
      "[训练] epoch: 25/50, loss: 0.75901, score:3/4\n",
      " - 更新后的权值 W(25): [[0.533 0.477]]\n",
      " - 更新后的阈值T(25): [[1.035]]\n",
      "\n",
      "+ 第30步: \n",
      "- 训练误差(loss/score): 0.7089\n",
      "[训练] epoch: 30/50, loss: 0.708889, score:4/4\n",
      " - 更新后的权值 W(30): [[0.575 0.532]]\n",
      " - 更新后的阈值T(30): [[1.078]]\n",
      "\n",
      "+ 第35步: \n",
      "- 训练误差(loss/score): 0.6727\n",
      "[训练] epoch: 35/50, loss: 0.672684, score:4/4\n",
      " - 更新后的权值 W(35): [[0.61  0.576]]\n",
      " - 更新后的阈值T(35): [[1.112]]\n",
      "\n",
      "+ 第40步: \n",
      "- 训练误差(loss/score): 0.6462\n",
      "[训练] epoch: 40/50, loss: 0.64622, score:4/4\n",
      " - 更新后的权值 W(40): [[0.637 0.611]]\n",
      " - 更新后的阈值T(40): [[1.14]]\n",
      "\n",
      "+ 第45步: \n",
      "- 训练误差(loss/score): 0.6266\n",
      "[训练] epoch: 45/50, loss: 0.626648, score:4/4\n",
      " - 更新后的权值 W(45): [[0.659 0.639]]\n",
      " - 更新后的阈值T(45): [[1.162]]\n",
      "\n",
      "+ 第50步: \n",
      "- 训练误差(loss/score): 0.6120\n",
      "[训练] epoch: 50/50, loss: 0.612014, score:4/4\n",
      " - 更新后的权值 W(50): [[0.677 0.662]]\n",
      " - 更新后的阈值T(50): [[1.179]]\n",
      "\n",
      " 训练结束: \n",
      " - 期望输出: [-1 -1 -1  1]\n",
      " - 实际输出: [-1. -1. -1.  1.]\n",
      " - 算法迭代次数: 50\n",
      " - ADALINE权值W: [[0.677 0.662]] 阈值T: [[1.179]]\n",
      "\n",
      " + 绘制训练损失曲线\n"
     ]
    },
    {
     "data": {
      "image/png": "[encoded data removed]",
      "text/plain": [
       "<Figure size 600x400 with 1 Axes>"
      ]
     },
     "metadata": {},
     "output_type": "display_data"
    },
    {
     "name": "stdout",
     "output_type": "stream",
     "text": [
      "\n",
      " + 绘制分类边界\n"
     ]
    },
    {
     "data": {
      "image/png": "[encoded data removed]",
      "text/plain": [
       "<Figure size 600x400 with 1 Axes>"
      ]
     },
     "metadata": {},
     "output_type": "display_data"
    },
    {
     "name": "stdout",
     "output_type": "stream",
     "text": [
      "\n",
      " ================================================================================\n",
      "\n"
     ]
    }
   ],
   "source": [
    "# P50 例3-4\n",
    "# 输入样本与期望输出\n",
    "X = np.array([[0, 0], [0, 1], [1, 0], [1, 1]])\n",
    "y = np.array([-1, -1, -1, 1])\n",
    "train_data = (X,y)\n",
    "   \n",
    "# 训练与操作      \n",
    "print('\\n训练 ADALINE 实现“与”运算')\n",
    "print(\"================================================================================\")\n",
    "\n",
    "# (1) 模型构建 --- ADALINE模型     \n",
    "input_size = X.shape[1]\n",
    "output_size = 1\n",
    "# 初始化权值和阈值\n",
    "init_W = [0.27,0.07]\n",
    "init_T = 0.22\n",
    "# 实例化模型\n",
    "model = ADALINE(input_size,output_size,init_W=init_W,init_T=init_T)   \n",
    "\n",
    "# (2) 模型训练\n",
    "# 设置评价函数\n",
    "metric = accuracy  # 分类问题的评价函数  正确率accuracy\n",
    "# 实例化Runner类, 并传入训练配置    \n",
    "runner = Runner(model,metric=metric)\n",
    "# 模型训练 \n",
    "lr = 0.1         # 学习率\n",
    "epochs = 50      # 循环次数 \n",
    "eps = 1e-5      # 算法停止条件\n",
    "scale =  None   #  'norm'  #   'min_max'  # 'z_score'  # # 样本归一化方法\n",
    "out_type = 'class'  # 输出类型 离散(类别)信号 'digital/class'  or 模拟信号 'analog'\n",
    "log_epochs = 5  # 打印轮次\n",
    "\n",
    "# 开始训练\n",
    "runner.train(train_data,lr=lr,epochs=epochs,eps=eps,out_type=out_type,scale = scale,log_epochs=log_epochs)\n",
    "print(\" - ADALINE权值W:\", model.weight, \"阈值T:\", -model.bias)\n",
    "\n",
    "print(\"\\n + 绘制训练损失曲线\")\n",
    "# 绘制训练损失曲线\n",
    "draw_score(runner.train_loss)\n",
    "print(\"\\n + 绘制分类边界\")\n",
    "# 绘制分类结果\n",
    "num = np.linspace(-3, 3, 100)  # Sample dat\n",
    "w = [-model.bias.item()]\n",
    "w.extend(model.weight.squeeze())\n",
    "draw_decision_boundary(num,train_data,w,title='ADALINE 实现“与”运算')\n",
    "\n",
    "print(\"\\n ================================================================================\\n\")"
   ]
  }
 ],
 "metadata": {
  "kernelspec": {
   "display_name": "Python 3 (ipykernel)",
   "language": "python",
   "name": "python3"
  },
  "language_info": {
   "codemirror_mode": {
    "name": "ipython",
    "version": 3
   },
   "file_extension": ".py",
   "mimetype": "text/x-python",
   "name": "python",
   "nbconvert_exporter": "python",
   "pygments_lexer": "ipython3",
   "version": "3.11.5"
  }
 },
 "nbformat": 4,
 "nbformat_minor": 5
}
