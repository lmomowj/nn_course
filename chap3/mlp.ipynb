{
 "cells": [
  {
   "cell_type": "markdown",
   "id": "dccd0d19",
   "metadata": {},
   "source": [
    "#    \n",
    "# 多层前馈网络 （多层感知器）"
   ]
  },
  {
   "cell_type": "markdown",
   "id": "fbd3c99e",
   "metadata": {},
   "source": [
    "###"
   ]
  },
  {
   "cell_type": "markdown",
   "id": "f8688840",
   "metadata": {},
   "source": [
    "<img src=\".\\image\\mlps.png\" alt=\"多隐层BP网络模型\" width=\"100%\">"
   ]
  },
  {
   "cell_type": "markdown",
   "id": "28d5bada",
   "metadata": {},
   "source": [
    "## 误差反向传播（BP）算法"
   ]
  },
  {
   "cell_type": "markdown",
   "id": "ab22f50e",
   "metadata": {},
   "source": [
    "<font size=4 color=blue face=\"黑体\">**核心思想**</font><font size=4 face=\"宋体\">  通过比较实际输出和期望输出得到误差信号，把误差信号以某种形式从输出层通过隐层向输入层逐层反向传播，得到各层的误差信号，再通过调整各层的连接权重以减小误差.</font>"
   ]
  },
  {
   "cell_type": "markdown",
   "id": "1a7206c7",
   "metadata": {},
   "source": [
    "<font size=4 color=blue face=\"黑体\">**学习过程**</font><font size=4 face=\"宋体\"> 由信号的正向传播和误差的反向传播两个过程组成.</font>"
   ]
  },
  {
   "cell_type": "markdown",
   "id": "6132f1a1",
   "metadata": {},
   "source": [
    "- <font size=3 face=\"宋体\">     信号的正向传播、误差的反向传播，以及各层调整权值的过程是周而复始地进行的.</font>  \n",
    "- <font size=3 face=\"宋体\">     权值不断调整的过程，也就是网络学习训练的过程.</font>  \n",
    "- <font size=3 face=\"宋体\">     进行此过程直到网络输出误差减小到预先设置的阈值以下，或者超过预先设置的最大训练次数.</font>  \n",
    "- <font size=3 face=\"宋体\">     权值的调整使用梯度下降法（Gradient Descent Method）.</font>  \n",
    "- <font size=3 face=\"宋体\">     权值的调整量与误差E 的梯度成比例.</font>"
   ]
  },
  {
   "cell_type": "markdown",
   "id": "b91491f9",
   "metadata": {},
   "source": [
    "<font size=4 color=blue face=\"黑体\">**BP算法推导**</font>  \n",
    "\n",
    "- <font size=3 face=\"宋体\"> 第 $h$ 层 </font>  \n",
    "\n",
    "  <font size=3 face=\"宋体\"> -  计算误差$E$关于第$h$层权矩阵$\\boldsymbol{W}^h$的梯度: </font> <font size=4 face=\"宋体\"> $ \\frac{\\partial E}{\\partial \\boldsymbol{W}^{h}} $  </font>  \n",
    "  <font size=3 face=\"宋体\"> -  计算误差$E$关于第$h$层阈值$\\boldsymbol{T}^h$的梯度: </font> <font size=4 face=\"宋体\"> $ \\frac{\\partial E}{\\partial \\boldsymbol{T}^{h}} $</font>  \n"
   ]
  },
  {
   "cell_type": "markdown",
   "id": "2e2e7197",
   "metadata": {},
   "source": [
    "- <font size=3 face=\"宋体\"> 计算 </font> &nbsp;&nbsp; <font size=5 face=\"宋体\"> $ \\frac{\\partial E}{\\partial \\boldsymbol{w}_{ij}^{h}} =  \\frac{\\partial\\mathbf{net}^{h}}{\\partial w_{ij}^{h}} \\frac{\\partial E}{\\partial \\mathbf{net}^{h}}$ </font> &nbsp;&nbsp; &nbsp;&nbsp;<font size=5 face=\"宋体\"> $ \\frac{\\partial E}{\\partial \\boldsymbol{T}^{h}} \n",
    "= - \\frac{\\partial\\mathbf{net}^{h}}{\\partial \\boldsymbol{T}^{h}}\\frac{\\partial E}{\\partial \\mathbf{net}^{h}} $ </font>  "
   ]
  },
  {
   "cell_type": "markdown",
   "id": "4c66e743",
   "metadata": {},
   "source": [
    "<font size=4 face=\"宋体\"> &nbsp;&nbsp;由 $\\mathbf{net}^{h} = (\\boldsymbol{W}^h)^T\\boldsymbol{Y}^{h-1} - \\boldsymbol{T}^h$，得</font> "
   ]
  },
  {
   "cell_type": "markdown",
   "id": "181f7886",
   "metadata": {},
   "source": [
    " <font size=3 face=\"宋体\"> $$ \n",
    "\\frac{\\partial \\mathbf{net}^h}{\\partial w_{ij}^{h}} \n",
    "=   \\left[\n",
    "\\frac{\\partial \\mathrm{net}_1^h}{\\partial w_{1j}^{h}},\\cdots, \\frac{\\partial \\mathrm{net}_j^h}{\\partial w_{ij}^{h}},\n",
    "\\cdots, \\frac{\\partial \\mathrm{net}_{M_h}^h}{\\partial w_{1j}^{h}}\n",
    " \\right]\n",
    "=  \\left[\n",
    "0, \\cdots, \\frac{\\partial ((\\boldsymbol{W}_j^h)^T\\boldsymbol{Y}^{h-1}-T_j^h)}{\\partial w_{ij}^{h}},\n",
    "\\cdots, 0\n",
    " \\right]\n",
    "=  \\left[\n",
    "0, \\cdots, y_j^{h-1}, \\cdots, 0\n",
    "\\right]\n",
    "\\triangleq  \\ \\mathbb{I}_j(y_i^{h-1}) \\ \\ \\ \\in \\mathbb{R}^{1\\times M_h}\n",
    "$$ </font> "
   ]
  },
  {
   "cell_type": "markdown",
   "id": "f0a6f219",
   "metadata": {},
   "source": [
    " <font size=4 face=\"宋体\"> $$ \\frac{\\partial \\mathbf{net}^h}{\\partial \\boldsymbol{T}^{h}} = - \\mathbf{I}_{M_h} \\ \\ \\in \\mathbb{R}^{M_h\\times M_h} $$ </font> "
   ]
  },
  {
   "cell_type": "markdown",
   "id": "b3bfc259",
   "metadata": {},
   "source": [
    "<font size=4 face=\"宋体\"> $$\\boldsymbol{\\delta}^{h} \\triangleq  -\\frac{\\partial E}{\\partial \\mathbf{net}^{h}} = -\\frac{\\partial \\boldsymbol{Y}^{h}}{\\partial \\mathbf{net}^{h}} \\cdot\n",
    "\\frac{\\partial \\mathbf{net}^{h+1}}{\\partial \\boldsymbol{Y}^{h}} \\cdot\\frac{\\partial E}{\\partial \\mathbf{net}^{h+1}} \n",
    "= \\frac{\\partial \\boldsymbol{Y}^{h}}{\\partial \\mathbf{net}^{h}} \\cdot\n",
    "\\frac{\\partial \\mathbf{net}^{h+1}}{\\partial \\boldsymbol{Y}^{h}}\\boldsymbol{\\delta}^{h+1}  \\in \\mathbb{R}^{M_h}\n",
    " $$ </font> "
   ]
  },
  {
   "cell_type": "markdown",
   "id": "b80fc32e",
   "metadata": {},
   "source": [
    "<font size=4 face=\"宋体\"> &nbsp;&nbsp;由 $\\mathbf{net}^{h+1} = (\\boldsymbol{W}^{h+1})^T\\boldsymbol{Y}^{h} - \\boldsymbol{T}^{h+1}\n",
    "$，$\\boldsymbol{Y}^{h} = f_h(\\mathbf{net}^{h})$ 得</font> "
   ]
  },
  {
   "cell_type": "markdown",
   "id": "d357b974",
   "metadata": {},
   "source": [
    "<font size=4 face=\"宋体\"> $$ \\frac{\\partial \\mathbf{net}^{h+1}}{\\partial \\boldsymbol{Y}^{h}}\n",
    "= \\boldsymbol{W}^{h+1}  $$ </font> "
   ]
  },
  {
   "cell_type": "markdown",
   "id": "ccfacc77",
   "metadata": {},
   "source": [
    "<font size=4 face=\"宋体\"> $$\\frac{\\partial \\boldsymbol{Y}^{h}}{\\partial \\mathbf{net}^{h}} \n",
    "=  \\frac{\\partial f_h(\\mathbf{net}^{h})}{\\partial \\mathbf{net}^{h}} \n",
    "= \\begin{pmatrix} \n",
    "\\frac{\\partial f_h(\\mathrm{net}_1^{h})}{\\partial \\mathrm{net_1^{h}}} & \\cdots & \\frac{\\partial f_h(\\mathrm{net}_{M_h}^{h})}{\\partial \\mathrm{net_1^{h}}} \\\\ \n",
    "\\vdots & \\vdots & \\vdots \\\\\n",
    "\\frac{\\partial f_h(\\mathrm{net}_1^{h})}{\\partial \\mathrm{net}_{M_h}^{h}} & \\cdots & \\frac{\\partial f_h(\\mathrm{net}_{M_h}^{h})}{\\partial \\mathrm{net}_{M_h}^{h}}\n",
    "\\end{pmatrix}\n",
    "= \\mathrm{diag}(f'_h(\\mathbf{net}^{h}))$$</font> "
   ]
  },
  {
   "cell_type": "markdown",
   "id": "d134a4cc",
   "metadata": {},
   "source": [
    "<font size=4 face=\"宋体\"> &nbsp;&nbsp;所以 $$ \\boldsymbol{\\delta}^{h} =\\mathrm{diag}(f'_h(\\mathbf{net}^{h}))\\boldsymbol{W}^{h+1}\\boldsymbol{\\delta}^{h+1}\n",
    " = f'_h(\\mathbf{net}^{h})\\odot (\\boldsymbol{W}^{h+1}\\boldsymbol{\\delta}^{h+1})$$</font> "
   ]
  },
  {
   "cell_type": "markdown",
   "id": "e01d145e",
   "metadata": {},
   "source": [
    "- <font size=3 face=\"宋体\"> 第 $h$ 层 </font>  \n",
    "\n",
    "  <font size=3 face=\"宋体\"> -  误差$E$对权值${w}_{ij}^h$的梯度: </font> <font size=5 face=\"宋体\"> $ \\frac{\\partial E}{\\partial w_{ij}^{h}} = \\frac{\\partial\\mathbf{net}^{h}}{\\partial w_{ij}^{h}} \\frac{\\partial E}{\\partial \\mathbf{net}^{h}} $ </font>  <font size=4 face=\"宋体\"> $ = -  \\mathbb{I}_j(y_i^{h-1})\\boldsymbol{\\delta}^{h}  = - y_i^{h-1}\\delta_j^{h} $  </font> \n",
    "      \n",
    "  <font size=3 face=\"宋体\"> -  误差$E$对权矩阵$\\boldsymbol{W}^h$的梯度: </font> <font size=5 face=\"宋体\"> $ \\frac{\\partial E}{\\partial \\boldsymbol{W}^{h}} $ </font> <font size=4 face=\"宋体\">$ \n",
    "= - \\boldsymbol{Y}^{h-1}(\\boldsymbol{\\delta}^{h})^T\n",
    "\\ \\ \\in\\mathbb{R}^{M_{h-1}\\times M_{h}}$   </font>   \n",
    "    \n",
    "  <font size=3 face=\"宋体\"> -  误差$E$对阈值$\\boldsymbol{T}^h$的梯度: </font> <font size=5 face=\"宋体\"> $ \\frac{\\partial E}{\\partial \\boldsymbol{T}^{h}} $ </font> <font size=4 face=\"宋体\">$ = \\boldsymbol{\\delta}^{h}\n",
    "\\ \\ \\in \\mathbb{R}^{M_{h}}$   </font> "
   ]
  },
  {
   "cell_type": "markdown",
   "id": "f9b91d19",
   "metadata": {},
   "source": [
    " <font size=3 color=blue face=\"宋体\">&nbsp;&nbsp;**权值更新公式**：&nbsp;&nbsp;</font><font size=4 face=\"宋体\">$\\boldsymbol{W}^{h} \\leftarrow \\boldsymbol{W}^h  +  \\eta \\cdot \\boldsymbol{Y}^{h-1}(\\boldsymbol{\\delta}^{h})^T\n",
    "\\ \\ \\in\\mathbb{R}^{M_{h-1}\\times M_{h}} $ </font>"
   ]
  },
  {
   "cell_type": "markdown",
   "id": "addee864",
   "metadata": {},
   "source": [
    "<font size=3 color=blue face=\"宋体\">&nbsp;&nbsp;**阈值更新公式**：&nbsp;&nbsp;</font><font size=4 face=\"宋体\">$\\boldsymbol{T}^{h} \\leftarrow \\boldsymbol{T}^h  - \\eta \\cdot \\boldsymbol{\\delta}^{h}\n",
    "\\ \\ \\in\\mathbb{R}^{M_{h}}$ </font>"
   ]
  },
  {
   "cell_type": "markdown",
   "id": "d4b37d5c",
   "metadata": {},
   "source": [
    "<font size=3 color=blue face=\"宋体\">&nbsp;&nbsp;**误差反向传播公式**：</font><font size=4 face=\"宋体\">$\\boldsymbol{\\delta}^{h}  = f'_h(\\mathbf{net}^{h})\\odot (\\boldsymbol{W}^{h+1}\\boldsymbol{\\delta}^{h+1})\n",
    "\\ \\ \\in\\mathbb{R}^{M_{h}}$ </font>"
   ]
  },
  {
   "cell_type": "markdown",
   "id": "0f0d4472",
   "metadata": {},
   "source": [
    " <font size=4 color=blue face=\"黑体\">**BP算法的训练步骤**</font>  "
   ]
  },
  {
   "cell_type": "markdown",
   "id": "29ac12f1",
   "metadata": {},
   "source": [
    "<font size=3 face=\"宋体\"> &nbsp;&nbsp;（1）权值初始化  \n",
    "&nbsp;&nbsp;（2）输入样本对 $(\\boldsymbol{X}^p,\\boldsymbol{d}^p)$   \n",
    "&nbsp;&nbsp;（3）计算各层输出  \n",
    "&nbsp;&nbsp;（4）计算网络输出误差  \n",
    "&nbsp;&nbsp;（5）计算各层误差信号  \n",
    "&nbsp;&nbsp;（6）调整各层权值  \n",
    "&nbsp;&nbsp;（7）检查是否对所有样本完成一次训练  \n",
    "&nbsp;&nbsp;（8）检查网络总误差是否达到精度要求\n",
    "</font> "
   ]
  },
  {
   "cell_type": "markdown",
   "id": "33d7ba48",
   "metadata": {},
   "source": [
    " <font size=4 color=blue face=\"黑体\">**标准BP算法流程**</font>  "
   ]
  },
  {
   "cell_type": "markdown",
   "id": "6186b891",
   "metadata": {
    "slideshow": {
     "slide_type": "-"
    }
   },
   "source": [
    "- <font size=3 face=\"黑体\">&nbsp;**基于随机梯度下降的BP算法** </font>  "
   ]
  },
  {
   "cell_type": "markdown",
   "id": "e2b43553",
   "metadata": {
    "slideshow": {
     "slide_type": "-"
    }
   },
   "source": [
    "<img src=\".\\image\\BP_GD.png\" alt=\"BP算法\" width=\"70%\">"
   ]
  },
  {
   "cell_type": "markdown",
   "id": "ca1aee6b",
   "metadata": {},
   "source": [
    " <font size=4 color=blue face=\"黑体\">**批训练BP算法流程**</font>  "
   ]
  },
  {
   "cell_type": "markdown",
   "id": "5a76a1c2",
   "metadata": {
    "slideshow": {
     "slide_type": "-"
    }
   },
   "source": [
    "- <font size=3 face=\"黑体\">&nbsp;**基于批量梯度下降的BP算法** </font>  "
   ]
  },
  {
   "cell_type": "markdown",
   "id": "615a9708",
   "metadata": {
    "slideshow": {
     "slide_type": "-"
    }
   },
   "source": [
    "<img src=\".\\image\\BP_BatchGD.png\" alt=\"批训练BP算法\" width=\"70%\">"
   ]
  }
 ],
 "metadata": {
  "celltoolbar": "原始单元格格式",
  "kernelspec": {
   "display_name": "Python 3 (ipykernel)",
   "language": "python",
   "name": "python3"
  },
  "language_info": {
   "codemirror_mode": {
    "name": "ipython",
    "version": 3
   },
   "file_extension": ".py",
   "mimetype": "text/x-python",
   "name": "python",
   "nbconvert_exporter": "python",
   "pygments_lexer": "ipython3",
   "version": "3.11.5"
  },
  "widgets": {
   "application/vnd.jupyter.widget-state+json": {
    "state": {},
    "version_major": 2,
    "version_minor": 0
   }
  }
 },
 "nbformat": 4,
 "nbformat_minor": 5
}
