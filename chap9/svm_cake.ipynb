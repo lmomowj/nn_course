{
 "cells": [
  {
   "cell_type": "markdown",
   "id": "f6b925f4",
   "metadata": {},
   "source": [
    "## 利用非线性SVM 对由cake函数生成的二类数据进行分类"
   ]
  },
  {
   "cell_type": "markdown",
   "id": "597c73b9",
   "metadata": {},
   "source": [
    "<font size=4 color=blue> **Cake Function：** </font> <font size=4 face=\"宋体\"> $f(x_1,x_2) = \\begin{cases} +1 & x_1^2+x_2^2 \\leq 1 \\\\ -1 & x_1^2+x_2^2 > 1 \\end{cases}\\ \\ \\ -2<x_1<2,-2<x_2<2$</font>"
   ]
  },
  {
   "cell_type": "code",
   "execution_count": null,
   "id": "df9a030e",
   "metadata": {},
   "outputs": [],
   "source": [
    "import os\n",
    "import numpy as np\n",
    "from nnc import dataset as Data\n",
    "from nnc import ksvm"
   ]
  },
  {
   "cell_type": "code",
   "execution_count": null,
   "id": "f7624a85",
   "metadata": {},
   "outputs": [],
   "source": [
    "# 生成 cake 数据\n",
    "# 由cake()函数生成数据\n",
    "Data.seed_random(2000)    \n",
    "# (1) 数据集构建\n",
    "# 随机采集441个样本，并进行可视化。\n",
    "sample_num = 21      # 按坐标采样点数目\n",
    "interval = (-2,2)     # 函数自变量取值范围\n",
    "noise = 0.25 #    0.0  #   0.5 #       # 数据中加入方差为noise的Gaussian白噪声\n",
    "train_num = sample_num**2    \n",
    "test_rate = 0.50             # 测试集数据比率\n",
    "random_flag = 1              # 0-生成等间隔分布数据  1-生成随机分布的数据\n",
    "# 生成数据\n",
    "cake = Data.cake_data()\n",
    "cake.gen_data(sample_num,test_rate=test_rate,interval=interval,noise=noise,random_flag=random_flag)\n",
    "# 训练数据集\n",
    "train_dataset = (cake.train_data[0],cake.train_data[1])\n",
    "train_num = cake.train_data[2]      # 训练样本数目\n",
    "# 测试数据集\n",
    "test_dataset = (cake.test_data[0],cake.test_data[1])\n",
    "test_num = cake.test_data[2]        # 测试样本数目\n",
    "\n",
    "print('训练样本数目：',train_num)\n",
    "print('测试样本数目：',test_num)\n",
    "# 绘制数据图像\n",
    "fig_path = os.path.normpath('image/classification/cake_svm/cake{}/fig/noise{}'.format(train_num,noise))\n",
    "cake.draw_data(fig_path,fig_name=f'cake_train{train_num}_n{noise}.pdf',data_type='train')\n",
    "cake.draw_data(fig_path,fig_name=f'cake_test{test_num}_n{noise}.pdf',data_type='test')\n",
    "#cake.draw_data(fig_path,fig_name=f'sin_train{train_num}_test{test_num}_n{noise}.pdf',\n",
    "              #train_data=train_dataset,test_data=test_dataset)"
   ]
  },
  {
   "cell_type": "code",
   "execution_count": null,
   "id": "6de1329e",
   "metadata": {
    "scrolled": false
   },
   "outputs": [],
   "source": [
    "# 利用 核SVM 解决cake数据分类问题\n",
    "train_num,input_size = train_dataset[0].shape    # 训练样本数目, 输入维度\n",
    "test_num = test_dataset[0].shape[0]              # 测试样本数目\n",
    "\n",
    "# 构建kernel_svm模型\n",
    "# kernel = [polynomial_kernel,2]\n",
    "sigma = 0.3\n",
    "kernel = [ksvm.gauss_kernel,sigma]\n",
    "#kernel = [laplace_kernel,0.5]\n",
    "# C 正则化参数\n",
    "# C = 0  硬间隔SVM\n",
    "# C > 0  软间隔SVM 正则化参数\n",
    "C = 0  #   5 # \n",
    "model = ksvm.kernel_svm(input_size,train_num,kernel=kernel,C=C)\n",
    "\n",
    "# 实例化Runner类\n",
    "runner = ksvm.Runner(model)\n",
    "\n",
    "# 训练SVM\n",
    "runner.train(train_dataset,test_dataset)\n",
    "\n",
    "print('\\n对{}个训练样本分类的正确率：{}%'.format(train_num,runner.train_score*100))\n",
    "print('对{}个测试样本分类的正确率：{}%'.format(test_num,runner.test_score*100))\n",
    "print('\\n支持向量个数：{}'.format(model.support_num))\n",
    "for i,idx in enumerate(model.support_id):\n",
    "    print('sv-{}: {} d-{}: {}  a-{}: {:2f}'.format(idx,model.support_vectors[i],idx,model.support_tags[i],idx,model.support_alphas[i]))    \n",
    "print('bias:',model.param['bias'])\n",
    "\n"
   ]
  },
  {
   "cell_type": "code",
   "execution_count": null,
   "id": "b595cde6",
   "metadata": {},
   "outputs": [],
   "source": []
  }
 ],
 "metadata": {
  "kernelspec": {
   "display_name": "Python 3 (ipykernel)",
   "language": "python",
   "name": "python3"
  },
  "language_info": {
   "codemirror_mode": {
    "name": "ipython",
    "version": 3
   },
   "file_extension": ".py",
   "mimetype": "text/x-python",
   "name": "python",
   "nbconvert_exporter": "python",
   "pygments_lexer": "ipython3",
   "version": "3.11.5"
  }
 },
 "nbformat": 4,
 "nbformat_minor": 5
}
