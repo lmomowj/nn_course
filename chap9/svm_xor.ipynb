{
 "cells": [
  {
   "cell_type": "markdown",
   "id": "180bf063",
   "metadata": {},
   "source": [
    "# 支持向量机 (SVM）"
   ]
  },
  {
   "cell_type": "code",
   "execution_count": 1,
   "id": "8d905568",
   "metadata": {},
   "outputs": [],
   "source": [
    "import numpy as np\n",
    "from sklearn import metrics\n",
    "import cvxopt       # 使用cvxopt包求解二次规划\n",
    "from nnc.plot_tool import *"
   ]
  },
  {
   "cell_type": "code",
   "execution_count": 2,
   "id": "7761dea7",
   "metadata": {},
   "outputs": [],
   "source": [
    "# 定义核函数\n",
    "# Linear kernel  线性核\n",
    "def linear_kernel(X,X_):\n",
    "    if X.ndim == 1:\n",
    "        X = X.reshape(1,len(X))\n",
    "    if X_.ndim == 1:\n",
    "        X_ = X_.reshape(1,len(X))\n",
    "    # P,N = X_.shape    # 样本数目,样本维度\n",
    "    K =  X @ X_.T\n",
    "    return K\n",
    "\n",
    "# Polynomial kernel   二次多项式核函数\n",
    "def polynomial_kernel(X,X_,n=2):\n",
    "    # 多项式核\n",
    "    if X.ndim == 1:\n",
    "        X = X.reshape(1,len(X))\n",
    "    if X_.ndim == 1:\n",
    "        X_ = X_.reshape(1,len(X))\n",
    "    # P,N = X_.shape    # 样本数目,样本维度\n",
    "    K = (X @ X_.T)**n\n",
    "    return K\n",
    "\n",
    "# Gaussian kernel\n",
    "def gauss_kernel(X,X_,sigma=0.5):\n",
    "    # Gaussian 核\n",
    "    if X.ndim == 1:\n",
    "        X = X.reshape(1,len(X))\n",
    "    if X_.ndim == 1:\n",
    "        X_ = X_.reshape(1,len(X))\n",
    "    # P,N = X_.shape    # 样本数目,样本维度\n",
    "    K = []\n",
    "    for x in X:\n",
    "        K.append(np.exp(-0.5*(np.linalg.norm(X_-x,axis=1)/sigma)**2))\n",
    "    return np.array(K)  \n",
    "\n",
    "# Laplace kernel\n",
    "def laplace_kernel(X,X_,sigma=0.5):\n",
    "    # Laplace 核\n",
    "    if X.ndim == 1:\n",
    "        X = X.reshape(1,len(X))\n",
    "    if X_.ndim == 1:\n",
    "        X_ = X_.reshape(1,len(X))\n",
    "    # P,N = X_.shape    # 样本数目,样本维度\n",
    "    K = []\n",
    "    for x in X:\n",
    "        K.append(np.exp(-np.linalg.norm(X_-x,axis=1)/sigma))\n",
    "    return np.array(K)  \n",
    "\n",
    "#输入数据 (加入阈值分量)\n",
    "def addIntercept(X):   # X.shape = (P,M) \n",
    "    return np.hstack((X, np.ones((X.shape[0], 1))))#输出（P,M+1)\n"
   ]
  },
  {
   "cell_type": "code",
   "execution_count": 3,
   "id": "c9626420",
   "metadata": {},
   "outputs": [],
   "source": [
    "# 核SVM\n",
    "# 求解二次规划（quadprog）\n",
    "class kernel_svm(object):\n",
    "    \n",
    "    def __init__(self,input_size,sample_num,**kwargs):\n",
    "        super(kernel_svm,self).__init__()\n",
    "        self.input_size = input_size      # 输入维度\n",
    "        self.sample_num = sample_num      # 样本数目\n",
    "        \n",
    "        # 核函数\n",
    "        self.kernel = kwargs.get('kernel',[polynomial_kernel,2])\n",
    "        \n",
    "        # SVM 参数\n",
    "        self.param = {}\n",
    "        self.param['alpha'] = None\n",
    "        self.param['weights'] = None\n",
    "        self.param['bias'] = 0\n",
    "        \n",
    "        # 支持向量\n",
    "        self.support_vectors = None   # 支持向量\n",
    "        self.support_tags = None      # 支持向量标签\n",
    "        self.support_alphas = None    # 支持向量系数\n",
    "        self.support_id = None        # 支持向量索引\n",
    "        self.support_num = None       # 支持向量个数\n",
    "        # self.init_param()\n",
    "        \n",
    "    def kernel_matrix(self,X):\n",
    "        # 计算核矩阵K\n",
    "        kfun = self.kernel[0]\n",
    "        kparam = self.kernel[1]\n",
    "        if kparam in [None,'']:\n",
    "            return kfun(X,X)\n",
    "        else:\n",
    "            return kfun(X,X,kparam)\n",
    "    \n",
    "    def solve_qp(self,K,y):\n",
    "        # 解二次规划问题 min_x  1/2 x'Qx + c'x  s.t.  Gx<=h, Ax=b\n",
    "        Q = cvxopt.matrix(np.diag(y) @ K @ np.diag(y))\n",
    "        c = cvxopt.matrix(-np.ones(self.sample_num))\n",
    "        G = cvxopt.matrix(-np.diag(np.ones(self.sample_num)))  # (y.astype(np.float64)))\n",
    "        h = cvxopt.matrix(np.zeros(self.sample_num))\n",
    "        Aeq = cvxopt.matrix(y.reshape(-1,1).T)   # y.astype(np.float64).reshape(-1,1).T)\n",
    "        beq = cvxopt.matrix([0.0])\n",
    "        sol = cvxopt.solvers.qp(Q, c, G, h, Aeq, beq)\n",
    "        self.param['alpha'] = np.array(sol['x']).squeeze()\n",
    "        return self.param['alpha']\n",
    "    \n",
    "    def find_sv(self,X,y,alpha):\n",
    "        # 查找支持向量\n",
    "        self.support_id = np.where(alpha>1e-7)[0].tolist()  # 支持向量索引\n",
    "        self.support_vectors = X[self.support_id,:]         # 支持向量\n",
    "        self.support_tags = y[self.support_id]               # 支持向量标签（期望输出） \n",
    "        self.support_alphas = alpha[self.support_id]        # 支持向量系数\n",
    "        self.support_num = len(self.support_id)\n",
    "    \n",
    "    def cal_weights(self):\n",
    "        self.param['weights'] = np.sum(np.multiply(np.multiply(self.support_alphas,self.support_tags).reshape(-1,1),self.support_vectors),axis=0)\n",
    "        return self.param['weights']\n",
    "    \n",
    "    def cal_bias(self):\n",
    "        # 计算核\n",
    "        if self.kernel[1] in [None,'']:\n",
    "            K = self.kernel[0](self.support_vectors,self.support_vectors)\n",
    "        else:\n",
    "            K = self.kernel[0](self.support_vectors,self.support_vectors,self.kernel[1])\n",
    "        ys = np.sum(np.multiply(np.multiply(self.support_alphas,self.support_tags),K),axis=1)\n",
    "        self.param['bias'] = np.sum(self.support_tags - ys)/self.support_num\n",
    "        return self.param['bias'] \n",
    "    \n",
    "    def predict(self,X):\n",
    "        # 计算核\n",
    "        if self.kernel[1] in [None,'']:\n",
    "            K = self.kernel[0](X,self.support_vectors)\n",
    "        else:\n",
    "            K = self.kernel[0](X,self.support_vectors,self.kernel[1])\n",
    "        y_pred = np.sum(np.multiply(np.multiply(self.support_alphas,self.support_tags),K),axis=1) + self.param['bias']\n",
    "        return np.sign(y_pred)    \n",
    "        "
   ]
  },
  {
   "cell_type": "code",
   "execution_count": 4,
   "id": "62148de9",
   "metadata": {},
   "outputs": [],
   "source": [
    "# 分类问题评价指标\n",
    "# 准确率 Accuracy\n",
    "def accuracy(labels,preds):\n",
    "    return metrics.accuracy_score(labels,preds)\n",
    "\n",
    "# 定义Runner类\n",
    "class Runner(object):\n",
    "    \n",
    "    def __init__(self,model,metric=accuracy):        \n",
    "        self.model = model       # 调用模型\n",
    "        self.metric = metric  # metric     # 评价函数 \n",
    "        self.train_score = None\n",
    "        self.train_pred = None\n",
    "    \n",
    "    def train(self,train_set,test_set=None,**kwargs):\n",
    "        # 数据集(X,y)\n",
    "        X,y = train_set  \n",
    "        P = X.shape[0]    # 样本数目\n",
    "        \n",
    "        # 计算核矩阵\n",
    "        X_ = addIntercept(X)  # 加入偏置\n",
    "        #X_ = X\n",
    "        K = self.model.kernel_matrix(X_)\n",
    "        \n",
    "        # 解二次规划求系数向量alpha\n",
    "        alpha = self.model.solve_qp(K,y.astype(np.float64))\n",
    "        \n",
    "        # 支持向量\n",
    "        self.model.find_sv(X,y,alpha)\n",
    "        \n",
    "        # 计算权值\n",
    "        if self.model.kernel[0] == linear_kernel:\n",
    "            weights = self.model.cal_weights()\n",
    "        \n",
    "        # 计算偏置\n",
    "        bias  = self.model.cal_bias()\n",
    "        \n",
    "        # 评估模型\n",
    "        self.train_pred,self.train_score = self.evaluate(train_set)\n",
    "    \n",
    "    def evaluate(self,dataset):\n",
    "        X, y = dataset\n",
    "        # 计算模型输出\n",
    "        y_pred = self.model.predict(X)  \n",
    "        # 准确率 metric = Accuracy\n",
    "        return y_pred,self.metric(y,y_pred)\n",
    "        \n",
    "    def predict(self,X):\n",
    "        return self.model.predict(X)        \n"
   ]
  },
  {
   "cell_type": "markdown",
   "id": "7e6695ee",
   "metadata": {},
   "source": [
    "## 线性SVM解决线性可分问题"
   ]
  },
  {
   "cell_type": "markdown",
   "id": "dbd84a59",
   "metadata": {},
   "source": [
    "<font size=4 color=blue> **例 1 (线性可分问题)：** </font> <font size=4 face=\"宋体\"> 3个训练样本如图所示, 其正样本是 $ \\boldsymbol{X}^1=(3,3)^T, \\boldsymbol{X}^2=(3,4)^T$ , 负样本是  $\\boldsymbol{X}^3=(1,1)^T$.</font>"
   ]
  },
  {
   "cell_type": "code",
   "execution_count": 5,
   "id": "c7bdd98c",
   "metadata": {},
   "outputs": [
    {
     "data": {
      "image/png": "[encoded data removed]",
      "text/plain": [
       "<Figure size 600x500 with 1 Axes>"
      ]
     },
     "metadata": {},
     "output_type": "display_data"
    }
   ],
   "source": [
    "X = np.array([[3,3],[3,4],[1,1]]).astype(np.float64)\n",
    "y = np.array([1,1,-1])\n",
    "# 绘制数据图像\n",
    "fig_path = os.path.normpath('image/examples/')\n",
    "draw_class2(fig_path,fig_name='linear_svm_ex1.pdf',data=(X,y),xlim=[0,5],ylim=[0,5])"
   ]
  },
  {
   "cell_type": "code",
   "execution_count": 6,
   "id": "f18d9230",
   "metadata": {},
   "outputs": [
    {
     "name": "stdout",
     "output_type": "stream",
     "text": [
      "     pcost       dcost       gap    pres   dres\n",
      " 0: -2.6873e-01 -6.7301e-01  4e+00  2e+00  1e+00\n",
      " 1: -1.4232e-01 -5.9278e-01  5e-01  2e-16  3e-16\n",
      " 2: -2.3773e-01 -2.7513e-01  4e-02  1e-16  5e-16\n",
      " 3: -2.4959e-01 -2.5037e-01  8e-04  6e-17  6e-16\n",
      " 4: -2.5000e-01 -2.5000e-01  8e-06  6e-17  3e-16\n",
      " 5: -2.5000e-01 -2.5000e-01  8e-08  6e-17  4e-16\n",
      "Optimal solution found.\n",
      "\n",
      "对3个训练样本分类的正确率：100.0%\n",
      "支持向量个数：2\n",
      "sv-0: [3. 3.] d-0: 1  a-0: 0.250000\n",
      "sv-2: [1. 1.] d-2: -1  a-2: 0.250000\n",
      "weights: [0.49999975 0.49999975]\n",
      "bias: -1.9999990041223819\n"
     ]
    },
    {
     "data": {
      "image/png": "[encoded data removed]",
      "text/plain": [
       "<Figure size 600x500 with 1 Axes>"
      ]
     },
     "metadata": {},
     "output_type": "display_data"
    }
   ],
   "source": [
    "# 利用 线性SVM 解决线性可分问题\n",
    "sample_num,input_size = X.shape\n",
    "\n",
    "# 构建linear_svm模型\n",
    "# 线性核函数\n",
    "kernel = [linear_kernel,None]\n",
    "\n",
    "model = kernel_svm(input_size,sample_num,kernel=kernel)\n",
    "\n",
    "# 实例化Runner类\n",
    "runner = Runner(model)\n",
    "\n",
    "# 训练SVM\n",
    "train_dataset = (X,y)\n",
    "runner.train(train_dataset)\n",
    "\n",
    "print('\\n对3个训练样本分类的正确率：{}%'.format(runner.train_score*100))\n",
    "print('支持向量个数：{}'.format(model.support_num))\n",
    "\n",
    "for i,idx in enumerate(model.support_id):\n",
    "    print('sv-{}: {} d-{}: {}  a-{}: {:2f}'.format(idx,model.support_vectors[i],idx,model.support_tags[i],idx,model.support_alphas[i]))\n",
    "    \n",
    "print('weights:',model.param['weights'])\n",
    "print('bias:',model.param['bias'])\n",
    "weights = model.param['weights']\n",
    "bias = model.param['bias']\n",
    "draw_class2(fig_path,fig_name='linear_svm_ex1_c2.pdf',data=(X,y),weights=weights,bias=bias,xlim=[0,5],ylim=[0,5])\n"
   ]
  },
  {
   "cell_type": "markdown",
   "id": "361cb549",
   "metadata": {},
   "source": [
    "## 非线性SVM解决XOR问题"
   ]
  },
  {
   "cell_type": "markdown",
   "id": "dd7e647b",
   "metadata": {},
   "source": [
    "<font size=4 color=blue> **XOR问题：** </font> <font size=4 face=\"宋体\"> 4个训练样本如图所示, 其正样本是 $ \\boldsymbol{X}^1=(-1,-1)^T, \\boldsymbol{X}^2=(1,1)^T$ , 负样本是  $\\boldsymbol{X}^3=(-1,1)^T, \\boldsymbol{X}^4=(1,-1)^T$.</font>"
   ]
  },
  {
   "cell_type": "code",
   "execution_count": 7,
   "id": "e2e6739e",
   "metadata": {
    "scrolled": false
   },
   "outputs": [
    {
     "data": {
      "image/png": "[encoded data removed]",
      "text/plain": [
       "<Figure size 600x500 with 1 Axes>"
      ]
     },
     "metadata": {},
     "output_type": "display_data"
    }
   ],
   "source": [
    "X = np.array([[-1,-1],[1,1],[-1,1],[1,-1]]).astype(np.float64)\n",
    "y = np.array([1,1,-1,-1])\n",
    "# 绘制数据图像\n",
    "fig_path = os.path.normpath('image/examples/')\n",
    "draw_class2(fig_path,fig_name='xor.pdf',data=(X,y),xlim=[-2,2],ylim=[-2,2])"
   ]
  },
  {
   "cell_type": "markdown",
   "id": "add21731",
   "metadata": {},
   "source": [
    "<font size=4 color=blue> **方法：** </font>   <font size=4 face=\"宋体\"> 选择（二次）多项式核函数 $\\kappa(\\boldsymbol{X},\\boldsymbol{X}^p)$ 求解XOR问题</font>"
   ]
  },
  {
   "cell_type": "code",
   "execution_count": 8,
   "id": "f057aa09",
   "metadata": {},
   "outputs": [
    {
     "name": "stdout",
     "output_type": "stream",
     "text": [
      "     pcost       dcost       gap    pres   dres\n",
      " 0: -2.4691e-01 -6.9136e-01  4e-01  3e-17  1e+00\n",
      " 1: -2.4973e-01 -2.5457e-01  5e-03  6e-17  4e-02\n",
      " 2: -2.5000e-01 -2.5005e-01  5e-05  6e-17  4e-04\n",
      " 3: -2.5000e-01 -2.5000e-01  5e-07  3e-17  4e-06\n",
      " 4: -2.5000e-01 -2.5000e-01  5e-09  7e-17  4e-08\n",
      "Optimal solution found.\n",
      "\n",
      "对4个训练样本分类的正确率：100.0%\n",
      "支持向量个数：4\n",
      "sv-0: [-1. -1.] d-0: 1  a-0: 0.125000\n",
      "sv-1: [1. 1.] d-1: 1  a-1: 0.125000\n",
      "sv-2: [-1.  1.] d-2: -1  a-2: 0.125000\n",
      "sv-3: [ 1. -1.] d-3: -1  a-3: 0.125000\n",
      "bias: 0.0\n"
     ]
    }
   ],
   "source": [
    "# 利用 核SVM 解决XOR问题\n",
    "sample_num,input_size = X.shape\n",
    "\n",
    "# 构建kernel_svm模型\n",
    "kernel = [polynomial_kernel,2]\n",
    "# kernel = [gauss_kernel,0.5]\n",
    "#kernel = [laplace_kernel,0.5]\n",
    "\n",
    "model = kernel_svm(input_size,sample_num,kernel=kernel)\n",
    "\n",
    "# 实例化Runner类\n",
    "runner = Runner(model)\n",
    "\n",
    "# 训练SVM\n",
    "train_dataset = (X,y)\n",
    "runner.train(train_dataset)\n",
    "\n",
    "print('\\n对4个训练样本分类的正确率：{}%'.format(runner.train_score*100))\n",
    "print('支持向量个数：{}'.format(model.support_num))\n",
    "for i,idx in enumerate(model.support_id):\n",
    "    print('sv-{}: {} d-{}: {}  a-{}: {:2f}'.format(idx,model.support_vectors[i],idx,model.support_tags[i],idx,model.support_alphas[i]))\n",
    "    \n",
    "print('bias:',model.param['bias'])"
   ]
  }
 ],
 "metadata": {
  "kernelspec": {
   "display_name": "Python 3 (ipykernel)",
   "language": "python",
   "name": "python3"
  },
  "language_info": {
   "codemirror_mode": {
    "name": "ipython",
    "version": 3
   },
   "file_extension": ".py",
   "mimetype": "text/x-python",
   "name": "python",
   "nbconvert_exporter": "python",
   "pygments_lexer": "ipython3",
   "version": "3.11.5"
  }
 },
 "nbformat": 4,
 "nbformat_minor": 5
}
